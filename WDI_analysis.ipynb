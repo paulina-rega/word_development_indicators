{
 "cells": [
  {
   "cell_type": "markdown",
   "id": "348d2a21",
   "metadata": {},
   "source": [
    "# WORK IN PROGRESS!"
   ]
  },
  {
   "cell_type": "markdown",
   "id": "f04888ad",
   "metadata": {},
   "source": [
    "# Word Development Indicators  – Basic Analysis"
   ]
  },
  {
   "cell_type": "markdown",
   "id": "152e7770",
   "metadata": {},
   "source": [
    "Here is the basic analysis of the [Word Develompent Indicators Dataset](https://datacatalog.worldbank.org/search/dataset/0037712)\n",
    "\n",
    "It focuses on economic, education and health relationships\n",
    "\n",
    "Python libraries:\n",
    "- Pandas\n",
    "- NumPy \n",
    "- Seaborn\n",
    "- Matplotlib"
   ]
  },
  {
   "cell_type": "code",
   "execution_count": 45,
   "id": "fc0b48c2",
   "metadata": {},
   "outputs": [],
   "source": [
    "# Importing libraries\n",
    "import pandas as pd\n",
    "import numpy as np\n",
    "import matplotlib as plt\n",
    "import seaborn as sns"
   ]
  },
  {
   "cell_type": "code",
   "execution_count": 46,
   "id": "b10b699c",
   "metadata": {},
   "outputs": [],
   "source": [
    "#importing data\n",
    "df = pd.read_csv('../WDI_Data/WDIData.csv')\n",
    "df_desc = pd.read_csv('../WDI_Data/WDISeries.csv')"
   ]
  },
  {
   "cell_type": "markdown",
   "id": "dd552c01",
   "metadata": {},
   "source": [
    "## Preparing dataframe with indicators related to economic, education and health"
   ]
  },
  {
   "cell_type": "markdown",
   "id": "e1f5110b",
   "metadata": {},
   "source": [
    "From the information provided 'WDISeries.csv', we create dataframe with the relevant indicators in the format that will simplify further analysis"
   ]
  },
  {
   "cell_type": "code",
   "execution_count": 48,
   "id": "835e7980",
   "metadata": {},
   "outputs": [],
   "source": [
    "# Preparing lists of topics\n",
    "\n",
    "topics = df_desc['Topic'].unique()\n",
    "\n",
    "health_topics = [t for t in topics if 'Health' in t]\n",
    "economy_topics = [t for t in topics if 'Economic' in t]\n",
    "education_topics = [t for t in topics if 'Education' in t]"
   ]
  },
  {
   "cell_type": "code",
   "execution_count": 54,
   "id": "e0a45434",
   "metadata": {},
   "outputs": [
    {
     "ename": "IndentationError",
     "evalue": "expected an indented block (1273432979.py, line 10)",
     "output_type": "error",
     "traceback": [
      "\u001b[0;36m  File \u001b[0;32m\"/var/folders/pg/rc4g37bs3sd37wr40rzhh2140000gn/T/ipykernel_71684/1273432979.py\"\u001b[0;36m, line \u001b[0;32m10\u001b[0m\n\u001b[0;31m    for topic in health_topics:\u001b[0m\n\u001b[0m    ^\u001b[0m\n\u001b[0;31mIndentationError\u001b[0m\u001b[0;31m:\u001b[0m expected an indented block\n"
     ]
    }
   ],
   "source": [
    "# Creating list of indicators based on topics\n",
    "\n",
    "indicators = []\n",
    "\n",
    "def creating_indicator_list(df, topic):\n",
    "    ### generalize the function from below \n",
    "\n",
    "\n",
    "\n",
    "for topic in health_topics:\n",
    "    indcator = df_desc[df_desc['Topic'] == topic]['Indicator Name']\n",
    "    indicators.append(indcator)\n",
    "    \n",
    "\n",
    "    \n",
    "    \n",
    "    \n"
   ]
  },
  {
   "cell_type": "code",
   "execution_count": null,
   "id": "1f7bd314",
   "metadata": {},
   "outputs": [],
   "source": []
  }
 ],
 "metadata": {
  "kernelspec": {
   "display_name": "Python 3 (ipykernel)",
   "language": "python",
   "name": "python3"
  },
  "language_info": {
   "codemirror_mode": {
    "name": "ipython",
    "version": 3
   },
   "file_extension": ".py",
   "mimetype": "text/x-python",
   "name": "python",
   "nbconvert_exporter": "python",
   "pygments_lexer": "ipython3",
   "version": "3.9.12"
  }
 },
 "nbformat": 4,
 "nbformat_minor": 5
}
